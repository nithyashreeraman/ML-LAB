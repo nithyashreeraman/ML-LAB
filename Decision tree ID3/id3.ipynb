{
 "cells": [
  {
   "cell_type": "code",
   "execution_count": 1,
   "id": "87af7f84",
   "metadata": {},
   "outputs": [],
   "source": [
    "#20BCE0969\n",
    "\n",
    "import pandas as pd\n",
    "import numpy as np\n",
    "from sklearn import tree\n",
    "from matplotlib import pyplot as plt\n",
    "%matplotlib inline"
   ]
  },
  {
   "cell_type": "code",
   "execution_count": 2,
   "id": "a0930027",
   "metadata": {},
   "outputs": [],
   "source": [
    "df=pd.read_csv('data.csv')\n",
    "attr=df.columns.values[1:-1]\n",
    "target=df[df.columns.values[-1]].values.tolist()"
   ]
  },
  {
   "cell_type": "code",
   "execution_count": 3,
   "id": "22330c4a",
   "metadata": {},
   "outputs": [
    {
     "data": {
      "text/html": [
       "<div>\n",
       "<style scoped>\n",
       "    .dataframe tbody tr th:only-of-type {\n",
       "        vertical-align: middle;\n",
       "    }\n",
       "\n",
       "    .dataframe tbody tr th {\n",
       "        vertical-align: top;\n",
       "    }\n",
       "\n",
       "    .dataframe thead th {\n",
       "        text-align: right;\n",
       "    }\n",
       "</style>\n",
       "<table border=\"1\" class=\"dataframe\">\n",
       "  <thead>\n",
       "    <tr style=\"text-align: right;\">\n",
       "      <th></th>\n",
       "      <th>Instance</th>\n",
       "      <th>a1</th>\n",
       "      <th>a2</th>\n",
       "      <th>a3</th>\n",
       "      <th>Classification</th>\n",
       "    </tr>\n",
       "  </thead>\n",
       "  <tbody>\n",
       "    <tr>\n",
       "      <th>0</th>\n",
       "      <td>1</td>\n",
       "      <td>True</td>\n",
       "      <td>Hot</td>\n",
       "      <td>High</td>\n",
       "      <td>No</td>\n",
       "    </tr>\n",
       "    <tr>\n",
       "      <th>1</th>\n",
       "      <td>2</td>\n",
       "      <td>True</td>\n",
       "      <td>Hot</td>\n",
       "      <td>High</td>\n",
       "      <td>No</td>\n",
       "    </tr>\n",
       "    <tr>\n",
       "      <th>2</th>\n",
       "      <td>3</td>\n",
       "      <td>False</td>\n",
       "      <td>Hot</td>\n",
       "      <td>High</td>\n",
       "      <td>Yes</td>\n",
       "    </tr>\n",
       "    <tr>\n",
       "      <th>3</th>\n",
       "      <td>4</td>\n",
       "      <td>False</td>\n",
       "      <td>Cool</td>\n",
       "      <td>Normal</td>\n",
       "      <td>Yes</td>\n",
       "    </tr>\n",
       "    <tr>\n",
       "      <th>4</th>\n",
       "      <td>5</td>\n",
       "      <td>False</td>\n",
       "      <td>Cool</td>\n",
       "      <td>Normal</td>\n",
       "      <td>Yes</td>\n",
       "    </tr>\n",
       "    <tr>\n",
       "      <th>5</th>\n",
       "      <td>6</td>\n",
       "      <td>True</td>\n",
       "      <td>Cool</td>\n",
       "      <td>High</td>\n",
       "      <td>No</td>\n",
       "    </tr>\n",
       "    <tr>\n",
       "      <th>6</th>\n",
       "      <td>7</td>\n",
       "      <td>True</td>\n",
       "      <td>Hot</td>\n",
       "      <td>High</td>\n",
       "      <td>No</td>\n",
       "    </tr>\n",
       "    <tr>\n",
       "      <th>7</th>\n",
       "      <td>8</td>\n",
       "      <td>True</td>\n",
       "      <td>Hot</td>\n",
       "      <td>Normal</td>\n",
       "      <td>Yes</td>\n",
       "    </tr>\n",
       "    <tr>\n",
       "      <th>8</th>\n",
       "      <td>9</td>\n",
       "      <td>False</td>\n",
       "      <td>Cool</td>\n",
       "      <td>Normal</td>\n",
       "      <td>Yes</td>\n",
       "    </tr>\n",
       "    <tr>\n",
       "      <th>9</th>\n",
       "      <td>9</td>\n",
       "      <td>False</td>\n",
       "      <td>Cool</td>\n",
       "      <td>High</td>\n",
       "      <td>Yes</td>\n",
       "    </tr>\n",
       "  </tbody>\n",
       "</table>\n",
       "</div>"
      ],
      "text/plain": [
       "   Instance     a1    a2      a3 Classification\n",
       "0         1   True   Hot    High             No\n",
       "1         2   True   Hot    High             No\n",
       "2         3  False   Hot    High            Yes\n",
       "3         4  False  Cool  Normal            Yes\n",
       "4         5  False  Cool  Normal            Yes\n",
       "5         6   True  Cool    High             No\n",
       "6         7   True   Hot    High             No\n",
       "7         8   True   Hot  Normal            Yes\n",
       "8         9  False  Cool  Normal            Yes\n",
       "9         9  False  Cool    High            Yes"
      ]
     },
     "execution_count": 3,
     "metadata": {},
     "output_type": "execute_result"
    }
   ],
   "source": [
    "df"
   ]
  },
  {
   "cell_type": "code",
   "execution_count": 4,
   "id": "ee8524fc",
   "metadata": {},
   "outputs": [],
   "source": [
    "data=df[attr]\n",
    "data=np.array(pd.get_dummies(data))\n",
    "data=np.delete(data,np.s_[2],axis=1)\n",
    "data=np.delete(data,np.s_[3],axis=1)"
   ]
  },
  {
   "cell_type": "code",
   "execution_count": 5,
   "id": "169f51ab",
   "metadata": {},
   "outputs": [
    {
     "name": "stdout",
     "output_type": "stream",
     "text": [
      "Modified Dataset: (Each categorical attribute is represented by a number):\n",
      "\n",
      "a1:Boolean values\n",
      "a2:{0-Hot; 1-Cool}\n",
      "a3:{0-Normal; 1-High}\n"
     ]
    }
   ],
   "source": [
    "print('Modified Dataset: (Each categorical attribute is represented by a number):\\n')\n",
    "print('a1:Boolean values\\na2:{0-Hot; 1-Cool}\\na3:{0-Normal; 1-High}')"
   ]
  },
  {
   "cell_type": "code",
   "execution_count": 6,
   "id": "8df6a09d",
   "metadata": {},
   "outputs": [
    {
     "name": "stdout",
     "output_type": "stream",
     "text": [
      "Instances:\n",
      " [[True 0 1]\n",
      " [True 0 1]\n",
      " [False 0 1]\n",
      " [False 1 0]\n",
      " [False 1 0]\n",
      " [True 1 1]\n",
      " [True 0 1]\n",
      " [True 0 0]\n",
      " [False 1 0]\n",
      " [False 1 1]]\n"
     ]
    }
   ],
   "source": [
    "print('Instances:\\n',data)"
   ]
  },
  {
   "cell_type": "code",
   "execution_count": 7,
   "id": "513f8521",
   "metadata": {},
   "outputs": [
    {
     "name": "stdout",
     "output_type": "stream",
     "text": [
      "Target variable:\n",
      " ['No', 'No', 'Yes', 'Yes', 'Yes', 'No', 'No', 'Yes', 'Yes', 'Yes']\n"
     ]
    }
   ],
   "source": [
    "print('Target variable:\\n',target)"
   ]
  },
  {
   "cell_type": "code",
   "execution_count": 8,
   "id": "aa52a624",
   "metadata": {},
   "outputs": [],
   "source": [
    "clf=tree.DecisionTreeClassifier(criterion='entropy',random_state=0)\n",
    "clf=clf.fit(data,target)"
   ]
  },
  {
   "cell_type": "code",
   "execution_count": 9,
   "id": "967c5e76",
   "metadata": {},
   "outputs": [
    {
     "data": {
      "text/plain": [
       "<Figure size 2000x500 with 0 Axes>"
      ]
     },
     "execution_count": 9,
     "metadata": {},
     "output_type": "execute_result"
    },
    {
     "data": {
      "text/plain": [
       "<Figure size 2000x500 with 0 Axes>"
      ]
     },
     "metadata": {},
     "output_type": "display_data"
    }
   ],
   "source": [
    "plt.figure(figsize=(20,5))"
   ]
  },
  {
   "cell_type": "code",
   "execution_count": 10,
   "id": "6b62a214",
   "metadata": {},
   "outputs": [
    {
     "data": {
      "text/plain": [
       "[Text(0.4, 0.8333333333333334, 'a1 <= 0.5\\nentropy = 0.971\\nsamples = 10\\nvalue = [4, 6]\\nclass = Yes'),\n",
       " Text(0.2, 0.5, 'entropy = 0.0\\nsamples = 5\\nvalue = [0, 5]\\nclass = Yes'),\n",
       " Text(0.6, 0.5, 'a3 <= 0.5\\nentropy = 0.722\\nsamples = 5\\nvalue = [4, 1]\\nclass = No'),\n",
       " Text(0.4, 0.16666666666666666, 'entropy = 0.0\\nsamples = 1\\nvalue = [0, 1]\\nclass = Yes'),\n",
       " Text(0.8, 0.16666666666666666, 'entropy = 0.0\\nsamples = 4\\nvalue = [4, 0]\\nclass = No')]"
      ]
     },
     "execution_count": 10,
     "metadata": {},
     "output_type": "execute_result"
    },
    {
     "data": {
      "image/png": "[encoded data removed]",
      "text/plain": [
       "<Figure size 640x480 with 1 Axes>"
      ]
     },
     "metadata": {},
     "output_type": "display_data"
    }
   ],
   "source": [
    "tree.plot_tree(clf,filled=True,feature_names=attr.tolist(),class_names=['No','Yes'])"
   ]
  },
  {
   "cell_type": "code",
   "execution_count": 11,
   "id": "687ba165",
   "metadata": {},
   "outputs": [
    {
     "name": "stdout",
     "output_type": "stream",
     "text": [
      "Predicted values:\n",
      "\n",
      "a1\ta2\ta3\tClass\n",
      "True\t1\t1\tNo\n"
     ]
    }
   ],
   "source": [
    "#Predicition:\n",
    "# <Tree,Cool,High>\n",
    "\n",
    "a1,a2,a3=(True,1,1)\n",
    "print('Predicted values:\\n')\n",
    "print('a1\\ta2\\ta3\\tClass')\n",
    "print('{}\\t{}\\t{}\\t{}'.format(a1,a2,a3,clf.predict([[a1,a2,a3]])[0]))"
   ]
  },
  {
   "cell_type": "code",
   "execution_count": null,
   "id": "d2c08a96",
   "metadata": {},
   "outputs": [],
   "source": []
  }
 ],
 "metadata": {
  "kernelspec": {
   "display_name": "Python 3 (ipykernel)",
   "language": "python",
   "name": "python3"
  },
  "language_info": {
   "codemirror_mode": {
    "name": "ipython",
    "version": 3
   },
   "file_extension": ".py",
   "mimetype": "text/x-python",
   "name": "python",
   "nbconvert_exporter": "python",
   "pygments_lexer": "ipython3",
   "version": "3.9.13"
  }
 },
 "nbformat": 4,
 "nbformat_minor": 5
}

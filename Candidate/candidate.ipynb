{
 "cells": [
  {
   "cell_type": "code",
   "execution_count": 1,
   "id": "bd46cb01",
   "metadata": {},
   "outputs": [],
   "source": [
    "#20BCE0969\n",
    "import csv"
   ]
  },
  {
   "cell_type": "code",
   "execution_count": 2,
   "id": "07f5c5bc",
   "metadata": {},
   "outputs": [
    {
     "name": "stdout",
     "output_type": "stream",
     "text": [
      "Given training dataset:\n",
      "\n",
      "['sky', 'air_temp', 'humidity', 'wind', 'water', 'forecast', 'enjoy_sport']\n",
      "['sunny', 'warm', 'normal', 'strong', 'warm', 'same', 'yes']\n",
      "['sunny', 'warm', 'high', 'strong', 'warm', 'same', 'yes']\n",
      "['rainy', 'cold', 'high', 'strong', 'warm', 'change', 'no']\n",
      "['sunny', 'warm', 'high', 'strong', 'cool', 'change', 'yes']\n"
     ]
    }
   ],
   "source": [
    "d=[]\n",
    "print(\"Given training dataset:\\n\")\n",
    "with open(\"candidate.csv\",'r') as csvfile:\n",
    "    reader=csv.reader(csvfile)\n",
    "    for row in reader:\n",
    "        d.append(row)\n",
    "        print(row)\n",
    "    "
   ]
  },
  {
   "cell_type": "code",
   "execution_count": 3,
   "id": "cf84cccb",
   "metadata": {},
   "outputs": [],
   "source": [
    "n=len(d[0])-1"
   ]
  },
  {
   "cell_type": "code",
   "execution_count": 4,
   "id": "f0529c32",
   "metadata": {},
   "outputs": [
    {
     "name": "stdout",
     "output_type": "stream",
     "text": [
      "Most Specific Hpothesis (S0):  ['0', '0', '0', '0', '0', '0']\n",
      "Most General Hpothesis (G0):  ['?', '?', '?', '?', '?', '?']\n"
     ]
    }
   ],
   "source": [
    "S=['0']*n\n",
    "G=['?']*n\n",
    "print(\"Most Specific Hpothesis (S0): \", S)\n",
    "print(\"Most General Hpothesis (G0): \", G)"
   ]
  },
  {
   "cell_type": "code",
   "execution_count": 5,
   "id": "9cf43ad6",
   "metadata": {},
   "outputs": [],
   "source": [
    "temp=[]"
   ]
  },
  {
   "cell_type": "code",
   "execution_count": 6,
   "id": "eb3715be",
   "metadata": {},
   "outputs": [],
   "source": [
    "for i in range(0,n):\n",
    "    S[i]=d[1][i]"
   ]
  },
  {
   "cell_type": "code",
   "execution_count": 7,
   "id": "974a268f",
   "metadata": {},
   "outputs": [
    {
     "name": "stdout",
     "output_type": "stream",
     "text": [
      "Iteration 1 :\n",
      "\n",
      "\n",
      "Instance x1 : ['sunny', 'warm', 'normal', 'strong', 'warm', 'same', 'yes']\n",
      "Specific hypothesis S1:  ['sunny', 'warm', 'normal', 'strong', 'warm', 'same']\n",
      "General hypothesis G1:  ['?', '?', '?', '?', '?', '?']\n",
      "\n",
      "\n",
      "Iteration 2 :\n",
      "\n",
      "\n",
      "Instance x2 : ['sunny', 'warm', 'high', 'strong', 'warm', 'same', 'yes']\n",
      "Specific hypothesis S2:  ['sunny', 'warm', '?', 'strong', 'warm', 'same']\n",
      "General hypothesis G2:  ['?', '?', '?', '?', '?', '?']\n",
      "\n",
      "\n",
      "Iteration 3 :\n",
      "\n",
      "\n",
      "Instance x3 : ['rainy', 'cold', 'high', 'strong', 'warm', 'change', 'no']\n",
      "Specific hypothesis S3:  ['sunny', 'warm', '?', 'strong', 'warm', 'same']\n",
      "General hypothesis G3:  [['sunny', '?', '?', '?', '?', '?'], ['?', 'warm', '?', '?', '?', '?'], ['?', '?', '?', '?', '?', 'same']]\n",
      "\n",
      "\n",
      "Iteration 4 :\n",
      "\n",
      "\n",
      "Instance x4 : ['sunny', 'warm', 'high', 'strong', 'cool', 'change', 'yes']\n",
      "Specific hypothesis S4:  ['sunny', 'warm', '?', 'strong', '?', '?']\n",
      "General hypothesis G4:  [['sunny', '?', '?', '?', '?', '?'], ['?', 'warm', '?', '?', '?', '?']]\n",
      "\n",
      "\n"
     ]
    }
   ],
   "source": [
    "for i in range(1,len(d)):\n",
    "    \n",
    "    print(\"Iteration\",i,\":\") \n",
    "    print(\"\\n\")\n",
    "    print(\"Instance x{0}\".format(i),\":\",d[i])\n",
    "    if d[i][n]==\"yes\":\n",
    "        for j in range(0,n):\n",
    "            if S[j]!=d[i][j]:\n",
    "                S[j]='?'\n",
    "        for j in range(0,n):\n",
    "            for k in range(0,len(temp)):\n",
    "                if temp[k][j]!=S[j] and temp[k][j]!='?':\n",
    "                    del temp[k]\n",
    "    if d[i][n]==\"no\":\n",
    "        for j in range(0,n):\n",
    "            if d[i][j]!=S[j] and S[j]!='?':\n",
    "                G[j]=S[j]\n",
    "                temp.append(G)\n",
    "                G=['?']*n\n",
    "    print(\"Specific hypothesis S{}: \".format(i),S)\n",
    "        \n",
    "        \n",
    "    if len(temp)==0:\n",
    "        print(\"General hypothesis G{}: \".format(i),G)\n",
    "        print(\"\\n\")\n",
    "    else:\n",
    "        print(\"General hypothesis G{}: \".format(i),temp)\n",
    "        print(\"\\n\")\n",
    "    "
   ]
  },
  {
   "cell_type": "code",
   "execution_count": null,
   "id": "bcec424b",
   "metadata": {},
   "outputs": [],
   "source": []
  }
 ],
 "metadata": {
  "kernelspec": {
   "display_name": "Python 3 (ipykernel)",
   "language": "python",
   "name": "python3"
  },
  "language_info": {
   "codemirror_mode": {
    "name": "ipython",
    "version": 3
   },
   "file_extension": ".py",
   "mimetype": "text/x-python",
   "name": "python",
   "nbconvert_exporter": "python",
   "pygments_lexer": "ipython3",
   "version": "3.9.13"
  }
 },
 "nbformat": 4,
 "nbformat_minor": 5
}

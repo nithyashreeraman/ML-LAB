{
 "cells": [
  {
   "cell_type": "code",
   "execution_count": 1,
   "id": "d5c014dc",
   "metadata": {},
   "outputs": [],
   "source": [
    "#20BCE0969\n",
    "import pandas as pd\n",
    "from matplotlib import pyplot as plt"
   ]
  },
  {
   "cell_type": "code",
   "execution_count": 2,
   "id": "2677e6fd",
   "metadata": {},
   "outputs": [],
   "source": [
    "df=pd.read_csv('HourStudied.csv')"
   ]
  },
  {
   "cell_type": "code",
   "execution_count": 3,
   "id": "40dd5d24",
   "metadata": {},
   "outputs": [
    {
     "data": {
      "text/html": [
       "<div>\n",
       "<style scoped>\n",
       "    .dataframe tbody tr th:only-of-type {\n",
       "        vertical-align: middle;\n",
       "    }\n",
       "\n",
       "    .dataframe tbody tr th {\n",
       "        vertical-align: top;\n",
       "    }\n",
       "\n",
       "    .dataframe thead th {\n",
       "        text-align: right;\n",
       "    }\n",
       "</style>\n",
       "<table border=\"1\" class=\"dataframe\">\n",
       "  <thead>\n",
       "    <tr style=\"text-align: right;\">\n",
       "      <th></th>\n",
       "      <th>Hours studied</th>\n",
       "      <th>Result</th>\n",
       "    </tr>\n",
       "  </thead>\n",
       "  <tbody>\n",
       "    <tr>\n",
       "      <th>0</th>\n",
       "      <td>29</td>\n",
       "      <td>0</td>\n",
       "    </tr>\n",
       "    <tr>\n",
       "      <th>1</th>\n",
       "      <td>15</td>\n",
       "      <td>0</td>\n",
       "    </tr>\n",
       "    <tr>\n",
       "      <th>2</th>\n",
       "      <td>33</td>\n",
       "      <td>1</td>\n",
       "    </tr>\n",
       "    <tr>\n",
       "      <th>3</th>\n",
       "      <td>28</td>\n",
       "      <td>1</td>\n",
       "    </tr>\n",
       "    <tr>\n",
       "      <th>4</th>\n",
       "      <td>39</td>\n",
       "      <td>1</td>\n",
       "    </tr>\n",
       "  </tbody>\n",
       "</table>\n",
       "</div>"
      ],
      "text/plain": [
       "   Hours studied  Result\n",
       "0             29       0\n",
       "1             15       0\n",
       "2             33       1\n",
       "3             28       1\n",
       "4             39       1"
      ]
     },
     "execution_count": 3,
     "metadata": {},
     "output_type": "execute_result"
    }
   ],
   "source": [
    "df"
   ]
  },
  {
   "cell_type": "code",
   "execution_count": 4,
   "id": "693fcc4c",
   "metadata": {},
   "outputs": [],
   "source": [
    "from sklearn.model_selection import train_test_split\n",
    "x_train,x_test,y_train,y_test= train_test_split(df[['Hours studied']],df.Result,train_size=0.8,random_state=0)"
   ]
  },
  {
   "cell_type": "code",
   "execution_count": 5,
   "id": "a212f26e",
   "metadata": {},
   "outputs": [
    {
     "data": {
      "text/plain": [
       "LogisticRegression()"
      ]
     },
     "execution_count": 5,
     "metadata": {},
     "output_type": "execute_result"
    }
   ],
   "source": [
    "from sklearn.linear_model import LogisticRegression\n",
    "model=LogisticRegression()\n",
    "model.fit(x_train,y_train)"
   ]
  },
  {
   "cell_type": "code",
   "execution_count": 6,
   "id": "0053d60f",
   "metadata": {},
   "outputs": [
    {
     "name": "stdout",
     "output_type": "stream",
     "text": [
      "Test instances:     Hours studied\n",
      "2             33\n",
      "Probability of fail and pass of the test instance: [[0.21232282 0.78767718]]\n",
      "Model score: 1.0\n"
     ]
    }
   ],
   "source": [
    "y_pred=model.predict(x_test)\n",
    "print('Test instances: ',x_test)\n",
    "print('Probability of fail and pass of the test instance:',model.predict_proba(x_test))\n",
    "print('Model score:',model.score(x_test,y_test))"
   ]
  },
  {
   "cell_type": "code",
   "execution_count": 7,
   "id": "58c954e6",
   "metadata": {},
   "outputs": [],
   "source": [
    "import math\n",
    "coeff,intercept=(model.coef_,model.intercept_)"
   ]
  },
  {
   "cell_type": "code",
   "execution_count": 8,
   "id": "c5d27216",
   "metadata": {},
   "outputs": [],
   "source": [
    "def sigmoid(x):\n",
    "    return(1/(1+math.exp(-x)))\n",
    "def predict(hours):\n",
    "    z=coeff*hours+intercept\n",
    "    result=sigmoid(z)\n",
    "    return result"
   ]
  },
  {
   "cell_type": "code",
   "execution_count": 9,
   "id": "10611cd5",
   "metadata": {},
   "outputs": [
    {
     "name": "stdout",
     "output_type": "stream",
     "text": [
      "Probability of pass for the student who studied for 33 hrs:\n",
      "Using builtin function: 0.7876771761660456\n",
      "Manually using the regression coefficients: 0.7876771761660456\n"
     ]
    },
    {
     "name": "stderr",
     "output_type": "stream",
     "text": [
      "C:\\Users\\nithy\\Anaconda3\\lib\\site-packages\\sklearn\\base.py:450: UserWarning: X does not have valid feature names, but LogisticRegression was fitted with feature names\n",
      "  warnings.warn(\n"
     ]
    }
   ],
   "source": [
    "#predict\n",
    "\n",
    "hours=33\n",
    "pred,predManually=(model.predict_proba([[hours]])[0][1],predict(hours))\n",
    "print('Probability of pass for the student who studied for 33 hrs:')\n",
    "print('Using builtin function:',pred)\n",
    "print('Manually using the regression coefficients:',predManually)"
   ]
  },
  {
   "cell_type": "code",
   "execution_count": 10,
   "id": "74ceea05",
   "metadata": {},
   "outputs": [
    {
     "name": "stdout",
     "output_type": "stream",
     "text": [
      "Inference:\n",
      "Since the probability of pass is greater than 0.5, the predicted result is pass(1)\n"
     ]
    }
   ],
   "source": [
    "print('Inference:')\n",
    "if pred>=0.5:\n",
    "    print('Since the probability of pass is greater than 0.5, the predicted result is pass(1)')\n",
    "else:\n",
    "    print('Since the probability of pass is less than 0.5, the predicted result is fail(0)')\n"
   ]
  },
  {
   "cell_type": "code",
   "execution_count": 11,
   "id": "c0be5c25",
   "metadata": {},
   "outputs": [
    {
     "data": {
      "text/plain": [
       "Text(0, 0.5, 'Result (1=pass 0=fail)')"
      ]
     },
     "execution_count": 11,
     "metadata": {},
     "output_type": "execute_result"
    },
    {
     "data": {
      "image/png": "[encoded data removed]",
      "text/plain": [
       "<Figure size 640x480 with 1 Axes>"
      ]
     },
     "metadata": {},
     "output_type": "display_data"
    }
   ],
   "source": [
    "x,y=(df.iloc[:,0:-1].values,df.iloc[:,-1].values)\n",
    "plt.scatter(x,y,marker='o',color='red')\n",
    "plt.title('Logistic Regression')\n",
    "plt.xlabel('Hours studied')\n",
    "plt.ylabel('Result (1=pass 0=fail)')"
   ]
  }
 ],
 "metadata": {
  "kernelspec": {
   "display_name": "Python 3 (ipykernel)",
   "language": "python",
   "name": "python3"
  },
  "language_info": {
   "codemirror_mode": {
    "name": "ipython",
    "version": 3
   },
   "file_extension": ".py",
   "mimetype": "text/x-python",
   "name": "python",
   "nbconvert_exporter": "python",
   "pygments_lexer": "ipython3",
   "version": "3.9.13"
  }
 },
 "nbformat": 4,
 "nbformat_minor": 5
}

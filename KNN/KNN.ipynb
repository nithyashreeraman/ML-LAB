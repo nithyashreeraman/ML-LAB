{
 "cells": [
  {
   "cell_type": "code",
   "execution_count": 1,
   "id": "9c2a7588",
   "metadata": {},
   "outputs": [],
   "source": [
    "#20BCE0969\n",
    "\n",
    "def swap(i,j,l):\n",
    "    t=l[i];\n",
    "    l[i]=l[j]\n",
    "    l[j]=t\n",
    "\n",
    "def display(x,y,c,d):\n",
    "    print('P1\\tP2\\tClass\\tDistance')\n",
    "    for i in range(len(c)):\n",
    "        print(x[i],'\\t',y[i],'\\t',c[i],'\\t',round(dist[i],4))"
   ]
  },
  {
   "cell_type": "code",
   "execution_count": 2,
   "id": "0946d911",
   "metadata": {},
   "outputs": [],
   "source": [
    "index=[0,1,2,3]\n",
    "P1=[7,7,3,1]\n",
    "P2=[7,4,4,4]\n",
    "c=['False','False','True','True']\n",
    "p1,p2=(3,7)    #to predict\n",
    "\n",
    "dist=[]\n",
    "k=3\n",
    "n=len(index)"
   ]
  },
  {
   "cell_type": "code",
   "execution_count": 3,
   "id": "d581e1bc",
   "metadata": {},
   "outputs": [],
   "source": [
    "for i in range(n):\n",
    "    d=((P1[i]-p1)**2 + (P2[i]-p2)**2)**0.5\n",
    "    dist.append(d)"
   ]
  },
  {
   "cell_type": "code",
   "execution_count": 4,
   "id": "cfa3f364",
   "metadata": {},
   "outputs": [
    {
     "name": "stdout",
     "output_type": "stream",
     "text": [
      "Distance from the point(3,7):\n",
      "P1\tP2\tClass\tDistance\n",
      "7 \t 7 \t False \t 4.0\n",
      "7 \t 4 \t False \t 5.0\n",
      "3 \t 4 \t True \t 3.0\n",
      "1 \t 4 \t True \t 3.6056\n"
     ]
    }
   ],
   "source": [
    "print('Distance from the point({},{}):'.format(p1,p2))\n",
    "display(P1,P2,c,dist)"
   ]
  },
  {
   "cell_type": "code",
   "execution_count": 5,
   "id": "96969ed8",
   "metadata": {},
   "outputs": [],
   "source": [
    "for i in range(n-1):\n",
    "    for j in range(i+1,n):\n",
    "        if dist[i]>dist[j]:\n",
    "            swap(i,j,P1)\n",
    "            swap(i,j,P2)\n",
    "            swap(i,j,c)\n",
    "            swap(i,j,dist)"
   ]
  },
  {
   "cell_type": "code",
   "execution_count": 6,
   "id": "c96b7785",
   "metadata": {},
   "outputs": [
    {
     "name": "stdout",
     "output_type": "stream",
     "text": [
      "Instances in sorted order:\n",
      "P1\tP2\tClass\tDistance\n",
      "3 \t 4 \t True \t 3.0\n",
      "1 \t 4 \t True \t 3.6056\n",
      "7 \t 7 \t False \t 4.0\n",
      "7 \t 4 \t False \t 5.0\n"
     ]
    }
   ],
   "source": [
    "print('Instances in sorted order:')\n",
    "display(P1,P2,c,dist)"
   ]
  },
  {
   "cell_type": "code",
   "execution_count": 7,
   "id": "3faec35c",
   "metadata": {},
   "outputs": [],
   "source": [
    "fc=0\n",
    "tc=0\n",
    "for i in range(k):\n",
    "    if c[i]=='True':\n",
    "        tc=tc+1\n",
    "    else:\n",
    "        fc=fc+1"
   ]
  },
  {
   "cell_type": "code",
   "execution_count": 8,
   "id": "5b0cc904",
   "metadata": {},
   "outputs": [
    {
     "name": "stdout",
     "output_type": "stream",
     "text": [
      "Predicted Class is:  True\n"
     ]
    }
   ],
   "source": [
    "if tc>fc:\n",
    "    pred='True'\n",
    "else:\n",
    "    pred='False'\n",
    "\n",
    "print('Predicted Class is: ',pred)    "
   ]
  },
  {
   "cell_type": "code",
   "execution_count": null,
   "id": "ffa6f485",
   "metadata": {},
   "outputs": [],
   "source": []
  }
 ],
 "metadata": {
  "kernelspec": {
   "display_name": "Python 3 (ipykernel)",
   "language": "python",
   "name": "python3"
  },
  "language_info": {
   "codemirror_mode": {
    "name": "ipython",
    "version": 3
   },
   "file_extension": ".py",
   "mimetype": "text/x-python",
   "name": "python",
   "nbconvert_exporter": "python",
   "pygments_lexer": "ipython3",
   "version": "3.9.13"
  }
 },
 "nbformat": 4,
 "nbformat_minor": 5
}
